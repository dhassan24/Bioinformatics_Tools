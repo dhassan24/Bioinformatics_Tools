{
 "cells": [
  {
   "cell_type": "markdown",
   "metadata": {},
   "source": [
    "**This code focuses on how to caclulate the Hamming distance (number of differences) between two DNA sequences. This can be helpful in instances where you want to know how similar or different two DNA strands are, maybe between to individuals or two different species**"
   ]
  },
  {
   "cell_type": "code",
   "execution_count": 1,
   "metadata": {},
   "outputs": [],
   "source": [
    "def hamming_distance(sequence1, sequence2):\n",
    "  if len(sequence1) != len(sequence2):\n",
    "    print(\"Error: These two sequences are of different lengths\")\n",
    "  else:\n",
    "    total_differences = 0\n",
    "    for i in range(len(sequence1)):\n",
    "      if sequence1[i] != sequence2[i]:\n",
    "        total_differences += 1\n",
    "    return total_differences \n"
   ]
  },
  {
   "cell_type": "code",
   "execution_count": 3,
   "metadata": {},
   "outputs": [
    {
     "name": "stdout",
     "output_type": "stream",
     "text": [
      "Error: These two sequences are of different lengths\n"
     ]
    }
   ],
   "source": [
    "hamming_distance('ATTGATCATGAGTCAATCCATGACTGA', 'ATGAACTGATCAGTACAGTATC')"
   ]
  }
 ],
 "metadata": {
  "kernelspec": {
   "display_name": "base",
   "language": "python",
   "name": "python3"
  },
  "language_info": {
   "codemirror_mode": {
    "name": "ipython",
    "version": 3
   },
   "file_extension": ".py",
   "mimetype": "text/x-python",
   "name": "python",
   "nbconvert_exporter": "python",
   "pygments_lexer": "ipython3",
   "version": "3.12.4"
  }
 },
 "nbformat": 4,
 "nbformat_minor": 2
}
