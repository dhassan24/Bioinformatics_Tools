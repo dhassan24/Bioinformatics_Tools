{
 "cells": [
  {
   "cell_type": "markdown",
   "metadata": {},
   "source": [
    "**This code will take a DNA string, of length at most 1000 bp, and output its reverse complement. This means that the nucleotide sequence will be reversed and then the complement of each nucleotide will be given**\n",
    "\n",
    "Sample Dataset:\n",
    "'AAAACCCGGT'\n",
    "\n",
    "Sample Output:\n",
    "'ACCGGGTTTT'"
   ]
  },
  {
   "cell_type": "code",
   "execution_count": 1,
   "metadata": {},
   "outputs": [],
   "source": [
    "def reverse_complement(dna_sequence):\n",
    "    dictionary = {'A':'T', 'T':'A', 'G':'C', 'C':'G'}\n",
    "    reverse = dna_sequence[::-1]\n",
    "    reverse_comp = ''\n",
    "    for i in reverse:\n",
    "        reverse_comp += dictionary[i]\n",
    "    return reverse_comp"
   ]
  },
  {
   "cell_type": "code",
   "execution_count": 3,
   "metadata": {},
   "outputs": [
    {
     "data": {
      "text/plain": [
       "'ACCGGGTTTT'"
      ]
     },
     "execution_count": 3,
     "metadata": {},
     "output_type": "execute_result"
    }
   ],
   "source": [
    "reverse_complement('AAAACCCGGT')"
   ]
  }
 ],
 "metadata": {
  "kernelspec": {
   "display_name": "base",
   "language": "python",
   "name": "python3"
  },
  "language_info": {
   "codemirror_mode": {
    "name": "ipython",
    "version": 3
   },
   "file_extension": ".py",
   "mimetype": "text/x-python",
   "name": "python",
   "nbconvert_exporter": "python",
   "pygments_lexer": "ipython3",
   "version": "3.12.4"
  }
 },
 "nbformat": 4,
 "nbformat_minor": 2
}
