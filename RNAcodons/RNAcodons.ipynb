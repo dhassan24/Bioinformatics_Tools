{
 "cells": [
  {
   "cell_type": "markdown",
   "metadata": {},
   "source": [
    "**This function prints out the codons of an DNA or RNA strand input. This can be useful to visualize the actual separate codons of an DNA or RNA strand**"
   ]
  },
  {
   "cell_type": "code",
   "execution_count": 1,
   "metadata": {},
   "outputs": [
    {
     "name": "stdout",
     "output_type": "stream",
     "text": [
      "ATG\n",
      "GTC\n",
      "TAC\n",
      "ATA\n",
      "GCT\n",
      "GAC\n",
      "AAA\n",
      "CAG\n",
      "CAC\n",
      "GTA\n",
      "GCA\n",
      "ATC\n",
      "GGT\n",
      "CGA\n",
      "ATC\n",
      "TCG\n",
      "AGA\n",
      "GGC\n",
      "ATA\n",
      "TGG\n",
      "TCA\n",
      "CAT\n",
      "GAT\n",
      "CGG\n",
      "TCG\n",
      "AGC\n",
      "GTG\n",
      "TTT\n",
      "CAA\n",
      "AGT\n",
      "TTG\n",
      "CGC\n",
      "CTA\n",
      "G\n"
     ]
    }
   ],
   "source": [
    "#### Create a function to print out the codons of an RNA, The imput sequce should be the following DNA sequence.\n",
    "\n",
    "dna_seq = 'ATGGTCTACATAGCTGACAAACAGCACGTAGCAATCGGTCGAATCTCGAGAGGCATATGGTCACATGATCGGTCGAGCGTGTTTCAAAGTTTGCGCCTAG'\n",
    "\n",
    "\n",
    "def print_codons(dna):\n",
    "  i = 0\n",
    "  while i < len(dna):\n",
    "      print(dna[i:i+3])\n",
    "      i += 3\n",
    "\n",
    "print_codons(dna_seq)\n"
   ]
  }
 ],
 "metadata": {
  "kernelspec": {
   "display_name": "base",
   "language": "python",
   "name": "python3"
  },
  "language_info": {
   "codemirror_mode": {
    "name": "ipython",
    "version": 3
   },
   "file_extension": ".py",
   "mimetype": "text/x-python",
   "name": "python",
   "nbconvert_exporter": "python",
   "pygments_lexer": "ipython3",
   "version": "3.12.4"
  }
 },
 "nbformat": 4,
 "nbformat_minor": 2
}
