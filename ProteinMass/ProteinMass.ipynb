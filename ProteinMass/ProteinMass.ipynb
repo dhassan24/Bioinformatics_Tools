{
 "cells": [
  {
   "cell_type": "markdown",
   "metadata": {},
   "source": [
    "**This function returns the atomic mass of a protein sequence, which can be helpful in understanding composition and density of a specific protein sequence**"
   ]
  },
  {
   "cell_type": "code",
   "execution_count": 2,
   "metadata": {},
   "outputs": [
    {
     "name": "stdout",
     "output_type": "stream",
     "text": [
      "20879.405939999982\n"
     ]
    }
   ],
   "source": [
    "mass = {\n",
    "    'A' : '71.03711',  'C' : '103.00919', 'D' : '115.02694',\n",
    "    'E' : '129.04259', 'F' : '147.06841', 'G' : '57.02146',\n",
    "    'H' : '137.05891', 'I' : '113.08406', 'K' : '128.09496',\n",
    "    'L' : '113.08406', 'M' : '131.04049', 'N' : '114.04293',\n",
    "    'P' : '97.05276',  'Q' : '128.05858', 'R' : '156.10111',\n",
    "    'S' : '87.03203',  'T' : '101.04768', 'V' : '99.06841',\n",
    "    'W' : '186.07931', 'Y' : '163.06333'\n",
    "}\n",
    "\n",
    "def mass_for_protein(proteinsequence):\n",
    "  weight = 0\n",
    "  for i in protein_seq:\n",
    "    weight += float(mass[i])\n",
    "  print(weight)\n"
   ]
  },
  {
   "cell_type": "code",
   "execution_count": 3,
   "metadata": {},
   "outputs": [
    {
     "name": "stdout",
     "output_type": "stream",
     "text": [
      "20879.405939999982\n"
     ]
    }
   ],
   "source": [
    "protein_seq = 'YSDMTIHYFEKWMREKCEDWDVPGVKCFDWWDIWFHEDQQDNILEIVDAYKRSHQLRKGMFVWNMVSQGGMEWPGQDNSEERCVPYSDMTIHYFEKWMREKCEDWDVPGVKCFDWWDIWFHEDQQDNILEIVDAYKRSHQLRKGMFVWNMVSQGGMEWPGQDNSEERCVP'\n",
    "\n",
    "mass_for_protein(protein_seq)"
   ]
  }
 ],
 "metadata": {
  "kernelspec": {
   "display_name": "base",
   "language": "python",
   "name": "python3"
  },
  "language_info": {
   "codemirror_mode": {
    "name": "ipython",
    "version": 3
   },
   "file_extension": ".py",
   "mimetype": "text/x-python",
   "name": "python",
   "nbconvert_exporter": "python",
   "pygments_lexer": "ipython3",
   "version": "3.12.4"
  }
 },
 "nbformat": 4,
 "nbformat_minor": 2
}
