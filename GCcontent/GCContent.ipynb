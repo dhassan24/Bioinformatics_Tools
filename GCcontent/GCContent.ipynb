{
 "cells": [
  {
   "cell_type": "markdown",
   "metadata": {},
   "source": [
    "**This code demonstrates how to calculate the GC nucleotide % content of a DNA strand. This metric can be useful in understanding genomic compositions in different loci of the genome, since GC rich areas tend to be associated with certain functions (such as origin of replication start sites, telomeres, centromeres, etc...)**"
   ]
  },
  {
   "cell_type": "code",
   "execution_count": 3,
   "metadata": {},
   "outputs": [],
   "source": [
    "def gc_content(dna_strand):\n",
    "    g_count = dna_strand.count('G')\n",
    "    c_count = dna_strand.count('C')\n",
    "    gc_count = (g_count + c_count) / len(dna_strand)\n",
    "    return gc_count * 100\n"
   ]
  },
  {
   "cell_type": "code",
   "execution_count": 4,
   "metadata": {},
   "outputs": [
    {
     "data": {
      "text/plain": [
       "50.0"
      ]
     },
     "execution_count": 4,
     "metadata": {},
     "output_type": "execute_result"
    }
   ],
   "source": [
    "gc_content('GGCCAAAA')"
   ]
  }
 ],
 "metadata": {
  "kernelspec": {
   "display_name": "base",
   "language": "python",
   "name": "python3"
  },
  "language_info": {
   "codemirror_mode": {
    "name": "ipython",
    "version": 3
   },
   "file_extension": ".py",
   "mimetype": "text/x-python",
   "name": "python",
   "nbconvert_exporter": "python",
   "pygments_lexer": "ipython3",
   "version": "3.12.4"
  }
 },
 "nbformat": 4,
 "nbformat_minor": 2
}
